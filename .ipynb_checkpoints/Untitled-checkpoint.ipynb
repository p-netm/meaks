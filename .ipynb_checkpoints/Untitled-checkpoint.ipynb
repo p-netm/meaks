{
 "cells": [
  {
   "cell_type": "markdown",
   "metadata": {},
   "source": [
    "## Unsupervised Learning\n",
    "- learning form unlabelled data\n",
    "- unsupervised learning algorithms try to find structure within the data sets\n",
    "- one example of clustering algorithm is the **K-Means** algorithm\n"
   ]
  },
  {
   "cell_type": "markdown",
   "metadata": {},
   "source": [
    "# K_MEANS\n",
    "- applied to data that has a smaller number of dimensions, numeric, and its continous\n",
    "- e.g. customer segmentaion, public transport analysis\n",
    "- think of scenario where you want to make groups of similar things from a random collection of things\n",
    "#### Applications\n",
    "    - Document classification - creating vectors from words\n",
    "    - Delivery store optimization - optimize launch locations\n",
    "    - cluster segmentation\n",
    "    - insurance fraud detection - data points that are close to previously identified cluseters of fraud.\n",
    "    - Cakk record detain analysis\n",
    "    "
   ]
  },
  {
   "cell_type": "code",
   "execution_count": null,
   "metadata": {},
   "outputs": [],
   "source": [
    "## Intuition\n",
    "\n",
    "Lets say we want to classify the below data set into 2 clusters\n"
   ]
  },
  {
   "cell_type": "code",
   "execution_count": null,
   "metadata": {},
   "outputs": [],
   "source": []
  }
 ],
 "metadata": {
  "kernelspec": {
   "display_name": "Python 3",
   "language": "python",
   "name": "python3"
  },
  "language_info": {
   "codemirror_mode": {
    "name": "ipython",
    "version": 3
   },
   "file_extension": ".py",
   "mimetype": "text/x-python",
   "name": "python",
   "nbconvert_exporter": "python",
   "pygments_lexer": "ipython3",
   "version": "3.7.3rc1"
  }
 },
 "nbformat": 4,
 "nbformat_minor": 2
}
